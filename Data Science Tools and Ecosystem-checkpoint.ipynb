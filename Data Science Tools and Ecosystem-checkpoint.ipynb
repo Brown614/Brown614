{
 "cells": [
  {
   "cell_type": "markdown",
   "id": "d5cd7db0-510a-45be-b455-5bbc14502790",
   "metadata": {
    "tags": []
   },
   "source": [
    "# Data Science Tools and Ecosystem"
   ]
  },
  {
   "cell_type": "markdown",
   "id": "ddf298dd-0285-4738-aa29-20072666135f",
   "metadata": {
    "tags": []
   },
   "source": [
    "In this notebook, Data Science Tools and Ecosystem are summarized."
   ]
  },
  {
   "cell_type": "markdown",
   "id": "d9d12e1e-b839-474f-946d-d6a8e7dfacd4",
   "metadata": {},
   "source": [
    "**10-objectives.png:**\n",
    "* List popular languages for Data Science\n",
    "* List popular libraries for Data Science\n",
    "* List a few example"
   ]
  },
  {
   "cell_type": "markdown",
   "id": "9fc2db1b-1fc4-4557-bdf6-9443839d627e",
   "metadata": {},
   "source": [
    "Some of the popular languages that Data Scientists use are:\n",
    "1. R\n",
    "2. Python\n",
    "3. Julia\n",
    "4. Scala\n",
    "5. Java "
   ]
  },
  {
   "cell_type": "markdown",
   "id": "08ac2406-2ceb-4e6b-9fdc-000334109c84",
   "metadata": {},
   "source": [
    "Some of the commonly used libraries used by Data Scientists include:\n",
    "1. Pandas\n",
    "2. Numpy \n",
    "3. ggpolt"
   ]
  },
  {
   "cell_type": "markdown",
   "id": "781cddf7-02d0-4d85-99d0-5b5db8b64698",
   "metadata": {
    "tags": []
   },
   "source": [
    "|Data Science Tools|\n",
    "|-|\n",
    "|Spark|\n",
    "|Flink|\n",
    "|MySQL|\n",
    "|OpenGuass|"
   ]
  },
  {
   "cell_type": "markdown",
   "id": "c5365e35-e7e0-4912-81eb-4e1020e8b8dd",
   "metadata": {},
   "source": [
    "### Below are a few examples of evaluating arithmetic expressions in Python"
   ]
  },
  {
   "cell_type": "code",
   "execution_count": null,
   "id": "d2b53a60-f3fd-476f-951d-df5944a8fa09",
   "metadata": {},
   "outputs": [],
   "source": [
    "# This a simple arithmetic expression to mutiply then add integers\n",
    "(3*4)+5"
   ]
  },
  {
   "cell_type": "code",
   "execution_count": null,
   "id": "4b9f26f4-a569-4393-819b-57c0f4671ff5",
   "metadata": {},
   "outputs": [],
   "source": [
    "17"
   ]
  },
  {
   "cell_type": "markdown",
   "id": "d99482ff-d3c8-478c-b823-f0024120a906",
   "metadata": {
    "tags": []
   },
   "source": [
    "## This will convert 200 minutes to hours by diving by 60\n",
    "200/60"
   ]
  },
  {
   "cell_type": "code",
   "execution_count": null,
   "id": "da35aa48-ac5e-47e4-a1cd-4297f2a30ae3",
   "metadata": {},
   "outputs": [],
   "source": [
    "3.33333333333"
   ]
  },
  {
   "cell_type": "markdown",
   "id": "edd25c3e-0a17-438a-bcd3-5a29fda4f6b5",
   "metadata": {},
   "source": [
    "## Author\n",
    " LIANCHENG HUANG"
   ]
  }
 ],
 "metadata": {
  "kernelspec": {
   "display_name": "Python 3 (ipykernel)",
   "language": "python",
   "name": "python3"
  },
  "language_info": {
   "codemirror_mode": {
    "name": "ipython",
    "version": 3
   },
   "file_extension": ".py",
   "mimetype": "text/x-python",
   "name": "python",
   "nbconvert_exporter": "python",
   "pygments_lexer": "ipython3",
   "version": "3.11.3"
  }
 },
 "nbformat": 4,
 "nbformat_minor": 5
}
